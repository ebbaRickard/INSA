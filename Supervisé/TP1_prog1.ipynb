{
 "cells": [
  {
   "cell_type": "code",
   "execution_count": 2,
   "id": "fatty-honor",
   "metadata": {},
   "outputs": [],
   "source": [
    "from sklearn.datasets import fetch_openml\n",
    "from sklearn import datasets\n",
    "from sklearn import model_selection\n",
    "from sklearn.model_selection import train_test_split\n",
    "from sklearn.metrics import precision_score\n",
    "from sklearn import neighbors\n",
    "import matplotlib.pyplot as plt \n",
    "import numpy as np\n",
    "import time"
   ]
  },
  {
   "cell_type": "code",
   "execution_count": 3,
   "id": "sexual-homework",
   "metadata": {},
   "outputs": [],
   "source": [
    "mnist = fetch_openml('mnist_784', as_frame = False)"
   ]
  },
  {
   "cell_type": "code",
   "execution_count": 4,
   "id": "sunset-enough",
   "metadata": {},
   "outputs": [
    {
     "name": "stdout",
     "output_type": "stream",
     "text": [
      "{'data': array([[0., 0., 0., ..., 0., 0., 0.],\n",
      "       [0., 0., 0., ..., 0., 0., 0.],\n",
      "       [0., 0., 0., ..., 0., 0., 0.],\n",
      "       ...,\n",
      "       [0., 0., 0., ..., 0., 0., 0.],\n",
      "       [0., 0., 0., ..., 0., 0., 0.],\n",
      "       [0., 0., 0., ..., 0., 0., 0.]]), 'target': array(['5', '0', '4', ..., '4', '5', '6'], dtype=object), 'frame': None, 'categories': {}, 'feature_names': ['pixel1', 'pixel2', 'pixel3', 'pixel4', 'pixel5', 'pixel6', 'pixel7', 'pixel8', 'pixel9', 'pixel10', 'pixel11', 'pixel12', 'pixel13', 'pixel14', 'pixel15', 'pixel16', 'pixel17', 'pixel18', 'pixel19', 'pixel20', 'pixel21', 'pixel22', 'pixel23', 'pixel24', 'pixel25', 'pixel26', 'pixel27', 'pixel28', 'pixel29', 'pixel30', 'pixel31', 'pixel32', 'pixel33', 'pixel34', 'pixel35', 'pixel36', 'pixel37', 'pixel38', 'pixel39', 'pixel40', 'pixel41', 'pixel42', 'pixel43', 'pixel44', 'pixel45', 'pixel46', 'pixel47', 'pixel48', 'pixel49', 'pixel50', 'pixel51', 'pixel52', 'pixel53', 'pixel54', 'pixel55', 'pixel56', 'pixel57', 'pixel58', 'pixel59', 'pixel60', 'pixel61', 'pixel62', 'pixel63', 'pixel64', 'pixel65', 'pixel66', 'pixel67', 'pixel68', 'pixel69', 'pixel70', 'pixel71', 'pixel72', 'pixel73', 'pixel74', 'pixel75', 'pixel76', 'pixel77', 'pixel78', 'pixel79', 'pixel80', 'pixel81', 'pixel82', 'pixel83', 'pixel84', 'pixel85', 'pixel86', 'pixel87', 'pixel88', 'pixel89', 'pixel90', 'pixel91', 'pixel92', 'pixel93', 'pixel94', 'pixel95', 'pixel96', 'pixel97', 'pixel98', 'pixel99', 'pixel100', 'pixel101', 'pixel102', 'pixel103', 'pixel104', 'pixel105', 'pixel106', 'pixel107', 'pixel108', 'pixel109', 'pixel110', 'pixel111', 'pixel112', 'pixel113', 'pixel114', 'pixel115', 'pixel116', 'pixel117', 'pixel118', 'pixel119', 'pixel120', 'pixel121', 'pixel122', 'pixel123', 'pixel124', 'pixel125', 'pixel126', 'pixel127', 'pixel128', 'pixel129', 'pixel130', 'pixel131', 'pixel132', 'pixel133', 'pixel134', 'pixel135', 'pixel136', 'pixel137', 'pixel138', 'pixel139', 'pixel140', 'pixel141', 'pixel142', 'pixel143', 'pixel144', 'pixel145', 'pixel146', 'pixel147', 'pixel148', 'pixel149', 'pixel150', 'pixel151', 'pixel152', 'pixel153', 'pixel154', 'pixel155', 'pixel156', 'pixel157', 'pixel158', 'pixel159', 'pixel160', 'pixel161', 'pixel162', 'pixel163', 'pixel164', 'pixel165', 'pixel166', 'pixel167', 'pixel168', 'pixel169', 'pixel170', 'pixel171', 'pixel172', 'pixel173', 'pixel174', 'pixel175', 'pixel176', 'pixel177', 'pixel178', 'pixel179', 'pixel180', 'pixel181', 'pixel182', 'pixel183', 'pixel184', 'pixel185', 'pixel186', 'pixel187', 'pixel188', 'pixel189', 'pixel190', 'pixel191', 'pixel192', 'pixel193', 'pixel194', 'pixel195', 'pixel196', 'pixel197', 'pixel198', 'pixel199', 'pixel200', 'pixel201', 'pixel202', 'pixel203', 'pixel204', 'pixel205', 'pixel206', 'pixel207', 'pixel208', 'pixel209', 'pixel210', 'pixel211', 'pixel212', 'pixel213', 'pixel214', 'pixel215', 'pixel216', 'pixel217', 'pixel218', 'pixel219', 'pixel220', 'pixel221', 'pixel222', 'pixel223', 'pixel224', 'pixel225', 'pixel226', 'pixel227', 'pixel228', 'pixel229', 'pixel230', 'pixel231', 'pixel232', 'pixel233', 'pixel234', 'pixel235', 'pixel236', 'pixel237', 'pixel238', 'pixel239', 'pixel240', 'pixel241', 'pixel242', 'pixel243', 'pixel244', 'pixel245', 'pixel246', 'pixel247', 'pixel248', 'pixel249', 'pixel250', 'pixel251', 'pixel252', 'pixel253', 'pixel254', 'pixel255', 'pixel256', 'pixel257', 'pixel258', 'pixel259', 'pixel260', 'pixel261', 'pixel262', 'pixel263', 'pixel264', 'pixel265', 'pixel266', 'pixel267', 'pixel268', 'pixel269', 'pixel270', 'pixel271', 'pixel272', 'pixel273', 'pixel274', 'pixel275', 'pixel276', 'pixel277', 'pixel278', 'pixel279', 'pixel280', 'pixel281', 'pixel282', 'pixel283', 'pixel284', 'pixel285', 'pixel286', 'pixel287', 'pixel288', 'pixel289', 'pixel290', 'pixel291', 'pixel292', 'pixel293', 'pixel294', 'pixel295', 'pixel296', 'pixel297', 'pixel298', 'pixel299', 'pixel300', 'pixel301', 'pixel302', 'pixel303', 'pixel304', 'pixel305', 'pixel306', 'pixel307', 'pixel308', 'pixel309', 'pixel310', 'pixel311', 'pixel312', 'pixel313', 'pixel314', 'pixel315', 'pixel316', 'pixel317', 'pixel318', 'pixel319', 'pixel320', 'pixel321', 'pixel322', 'pixel323', 'pixel324', 'pixel325', 'pixel326', 'pixel327', 'pixel328', 'pixel329', 'pixel330', 'pixel331', 'pixel332', 'pixel333', 'pixel334', 'pixel335', 'pixel336', 'pixel337', 'pixel338', 'pixel339', 'pixel340', 'pixel341', 'pixel342', 'pixel343', 'pixel344', 'pixel345', 'pixel346', 'pixel347', 'pixel348', 'pixel349', 'pixel350', 'pixel351', 'pixel352', 'pixel353', 'pixel354', 'pixel355', 'pixel356', 'pixel357', 'pixel358', 'pixel359', 'pixel360', 'pixel361', 'pixel362', 'pixel363', 'pixel364', 'pixel365', 'pixel366', 'pixel367', 'pixel368', 'pixel369', 'pixel370', 'pixel371', 'pixel372', 'pixel373', 'pixel374', 'pixel375', 'pixel376', 'pixel377', 'pixel378', 'pixel379', 'pixel380', 'pixel381', 'pixel382', 'pixel383', 'pixel384', 'pixel385', 'pixel386', 'pixel387', 'pixel388', 'pixel389', 'pixel390', 'pixel391', 'pixel392', 'pixel393', 'pixel394', 'pixel395', 'pixel396', 'pixel397', 'pixel398', 'pixel399', 'pixel400', 'pixel401', 'pixel402', 'pixel403', 'pixel404', 'pixel405', 'pixel406', 'pixel407', 'pixel408', 'pixel409', 'pixel410', 'pixel411', 'pixel412', 'pixel413', 'pixel414', 'pixel415', 'pixel416', 'pixel417', 'pixel418', 'pixel419', 'pixel420', 'pixel421', 'pixel422', 'pixel423', 'pixel424', 'pixel425', 'pixel426', 'pixel427', 'pixel428', 'pixel429', 'pixel430', 'pixel431', 'pixel432', 'pixel433', 'pixel434', 'pixel435', 'pixel436', 'pixel437', 'pixel438', 'pixel439', 'pixel440', 'pixel441', 'pixel442', 'pixel443', 'pixel444', 'pixel445', 'pixel446', 'pixel447', 'pixel448', 'pixel449', 'pixel450', 'pixel451', 'pixel452', 'pixel453', 'pixel454', 'pixel455', 'pixel456', 'pixel457', 'pixel458', 'pixel459', 'pixel460', 'pixel461', 'pixel462', 'pixel463', 'pixel464', 'pixel465', 'pixel466', 'pixel467', 'pixel468', 'pixel469', 'pixel470', 'pixel471', 'pixel472', 'pixel473', 'pixel474', 'pixel475', 'pixel476', 'pixel477', 'pixel478', 'pixel479', 'pixel480', 'pixel481', 'pixel482', 'pixel483', 'pixel484', 'pixel485', 'pixel486', 'pixel487', 'pixel488', 'pixel489', 'pixel490', 'pixel491', 'pixel492', 'pixel493', 'pixel494', 'pixel495', 'pixel496', 'pixel497', 'pixel498', 'pixel499', 'pixel500', 'pixel501', 'pixel502', 'pixel503', 'pixel504', 'pixel505', 'pixel506', 'pixel507', 'pixel508', 'pixel509', 'pixel510', 'pixel511', 'pixel512', 'pixel513', 'pixel514', 'pixel515', 'pixel516', 'pixel517', 'pixel518', 'pixel519', 'pixel520', 'pixel521', 'pixel522', 'pixel523', 'pixel524', 'pixel525', 'pixel526', 'pixel527', 'pixel528', 'pixel529', 'pixel530', 'pixel531', 'pixel532', 'pixel533', 'pixel534', 'pixel535', 'pixel536', 'pixel537', 'pixel538', 'pixel539', 'pixel540', 'pixel541', 'pixel542', 'pixel543', 'pixel544', 'pixel545', 'pixel546', 'pixel547', 'pixel548', 'pixel549', 'pixel550', 'pixel551', 'pixel552', 'pixel553', 'pixel554', 'pixel555', 'pixel556', 'pixel557', 'pixel558', 'pixel559', 'pixel560', 'pixel561', 'pixel562', 'pixel563', 'pixel564', 'pixel565', 'pixel566', 'pixel567', 'pixel568', 'pixel569', 'pixel570', 'pixel571', 'pixel572', 'pixel573', 'pixel574', 'pixel575', 'pixel576', 'pixel577', 'pixel578', 'pixel579', 'pixel580', 'pixel581', 'pixel582', 'pixel583', 'pixel584', 'pixel585', 'pixel586', 'pixel587', 'pixel588', 'pixel589', 'pixel590', 'pixel591', 'pixel592', 'pixel593', 'pixel594', 'pixel595', 'pixel596', 'pixel597', 'pixel598', 'pixel599', 'pixel600', 'pixel601', 'pixel602', 'pixel603', 'pixel604', 'pixel605', 'pixel606', 'pixel607', 'pixel608', 'pixel609', 'pixel610', 'pixel611', 'pixel612', 'pixel613', 'pixel614', 'pixel615', 'pixel616', 'pixel617', 'pixel618', 'pixel619', 'pixel620', 'pixel621', 'pixel622', 'pixel623', 'pixel624', 'pixel625', 'pixel626', 'pixel627', 'pixel628', 'pixel629', 'pixel630', 'pixel631', 'pixel632', 'pixel633', 'pixel634', 'pixel635', 'pixel636', 'pixel637', 'pixel638', 'pixel639', 'pixel640', 'pixel641', 'pixel642', 'pixel643', 'pixel644', 'pixel645', 'pixel646', 'pixel647', 'pixel648', 'pixel649', 'pixel650', 'pixel651', 'pixel652', 'pixel653', 'pixel654', 'pixel655', 'pixel656', 'pixel657', 'pixel658', 'pixel659', 'pixel660', 'pixel661', 'pixel662', 'pixel663', 'pixel664', 'pixel665', 'pixel666', 'pixel667', 'pixel668', 'pixel669', 'pixel670', 'pixel671', 'pixel672', 'pixel673', 'pixel674', 'pixel675', 'pixel676', 'pixel677', 'pixel678', 'pixel679', 'pixel680', 'pixel681', 'pixel682', 'pixel683', 'pixel684', 'pixel685', 'pixel686', 'pixel687', 'pixel688', 'pixel689', 'pixel690', 'pixel691', 'pixel692', 'pixel693', 'pixel694', 'pixel695', 'pixel696', 'pixel697', 'pixel698', 'pixel699', 'pixel700', 'pixel701', 'pixel702', 'pixel703', 'pixel704', 'pixel705', 'pixel706', 'pixel707', 'pixel708', 'pixel709', 'pixel710', 'pixel711', 'pixel712', 'pixel713', 'pixel714', 'pixel715', 'pixel716', 'pixel717', 'pixel718', 'pixel719', 'pixel720', 'pixel721', 'pixel722', 'pixel723', 'pixel724', 'pixel725', 'pixel726', 'pixel727', 'pixel728', 'pixel729', 'pixel730', 'pixel731', 'pixel732', 'pixel733', 'pixel734', 'pixel735', 'pixel736', 'pixel737', 'pixel738', 'pixel739', 'pixel740', 'pixel741', 'pixel742', 'pixel743', 'pixel744', 'pixel745', 'pixel746', 'pixel747', 'pixel748', 'pixel749', 'pixel750', 'pixel751', 'pixel752', 'pixel753', 'pixel754', 'pixel755', 'pixel756', 'pixel757', 'pixel758', 'pixel759', 'pixel760', 'pixel761', 'pixel762', 'pixel763', 'pixel764', 'pixel765', 'pixel766', 'pixel767', 'pixel768', 'pixel769', 'pixel770', 'pixel771', 'pixel772', 'pixel773', 'pixel774', 'pixel775', 'pixel776', 'pixel777', 'pixel778', 'pixel779', 'pixel780', 'pixel781', 'pixel782', 'pixel783', 'pixel784'], 'target_names': ['class'], 'DESCR': \"**Author**: Yann LeCun, Corinna Cortes, Christopher J.C. Burges  \\n**Source**: [MNIST Website](http://yann.lecun.com/exdb/mnist/) - Date unknown  \\n**Please cite**:  \\n\\nThe MNIST database of handwritten digits with 784 features, raw data available at: http://yann.lecun.com/exdb/mnist/. It can be split in a training set of the first 60,000 examples, and a test set of 10,000 examples  \\n\\nIt is a subset of a larger set available from NIST. The digits have been size-normalized and centered in a fixed-size image. It is a good database for people who want to try learning techniques and pattern recognition methods on real-world data while spending minimal efforts on preprocessing and formatting. The original black and white (bilevel) images from NIST were size normalized to fit in a 20x20 pixel box while preserving their aspect ratio. The resulting images contain grey levels as a result of the anti-aliasing technique used by the normalization algorithm. the images were centered in a 28x28 image by computing the center of mass of the pixels, and translating the image so as to position this point at the center of the 28x28 field.  \\n\\nWith some classification methods (particularly template-based methods, such as SVM and K-nearest neighbors), the error rate improves when the digits are centered by bounding box rather than center of mass. If you do this kind of pre-processing, you should report it in your publications. The MNIST database was constructed from NIST's NIST originally designated SD-3 as their training set and SD-1 as their test set. However, SD-3 is much cleaner and easier to recognize than SD-1. The reason for this can be found on the fact that SD-3 was collected among Census Bureau employees, while SD-1 was collected among high-school students. Drawing sensible conclusions from learning experiments requires that the result be independent of the choice of training set and test among the complete set of samples. Therefore it was necessary to build a new database by mixing NIST's datasets.  \\n\\nThe MNIST training set is composed of 30,000 patterns from SD-3 and 30,000 patterns from SD-1. Our test set was composed of 5,000 patterns from SD-3 and 5,000 patterns from SD-1. The 60,000 pattern training set contained examples from approximately 250 writers. We made sure that the sets of writers of the training set and test set were disjoint. SD-1 contains 58,527 digit images written by 500 different writers. In contrast to SD-3, where blocks of data from each writer appeared in sequence, the data in SD-1 is scrambled. Writer identities for SD-1 is available and we used this information to unscramble the writers. We then split SD-1 in two: characters written by the first 250 writers went into our new training set. The remaining 250 writers were placed in our test set. Thus we had two sets with nearly 30,000 examples each. The new training set was completed with enough examples from SD-3, starting at pattern # 0, to make a full set of 60,000 training patterns. Similarly, the new test set was completed with SD-3 examples starting at pattern # 35,000 to make a full set with 60,000 test patterns. Only a subset of 10,000 test images (5,000 from SD-1 and 5,000 from SD-3) is available on this site. The full 60,000 sample training set is available.\\n\\nDownloaded from openml.org.\", 'details': {'id': '554', 'name': 'mnist_784', 'version': '1', 'description_version': '1', 'format': 'ARFF', 'creator': ['Yann LeCun', 'Corinna Cortes', 'Christopher J.C. Burges'], 'upload_date': '2014-09-29T03:28:38', 'language': 'English', 'licence': 'Public', 'url': 'https://www.openml.org/data/v1/download/52667/mnist_784.arff', 'file_id': '52667', 'default_target_attribute': 'class', 'tag': ['AzurePilot', 'OpenML-CC18', 'OpenML100', 'study_1', 'study_123', 'study_41', 'study_99', 'vision'], 'visibility': 'public', 'status': 'active', 'processing_date': '2020-11-20 20:12:09', 'md5_checksum': '0298d579eb1b86163de7723944c7e495'}, 'url': 'https://www.openml.org/d/554'}\n"
     ]
    }
   ],
   "source": [
    "print(mnist)"
   ]
  },
  {
   "cell_type": "code",
   "execution_count": 5,
   "id": "provincial-enzyme",
   "metadata": {},
   "outputs": [
    {
     "name": "stdout",
     "output_type": "stream",
     "text": [
      "[[0. 0. 0. ... 0. 0. 0.]\n",
      " [0. 0. 0. ... 0. 0. 0.]\n",
      " [0. 0. 0. ... 0. 0. 0.]\n",
      " ...\n",
      " [0. 0. 0. ... 0. 0. 0.]\n",
      " [0. 0. 0. ... 0. 0. 0.]\n",
      " [0. 0. 0. ... 0. 0. 0.]]\n"
     ]
    }
   ],
   "source": [
    "print (mnist.data)"
   ]
  },
  {
   "cell_type": "code",
   "execution_count": 6,
   "id": "joined-programming",
   "metadata": {},
   "outputs": [
    {
     "name": "stdout",
     "output_type": "stream",
     "text": [
      "['5' '0' '4' ... '4' '5' '6']\n"
     ]
    }
   ],
   "source": [
    "print(mnist.target)"
   ]
  },
  {
   "cell_type": "code",
   "execution_count": 7,
   "id": "instant-northern",
   "metadata": {},
   "outputs": [
    {
     "name": "stdout",
     "output_type": "stream",
     "text": [
      "Help on built-in function len in module builtins:\n",
      "\n",
      "len(obj, /)\n",
      "    Return the number of items in a container.\n",
      "\n"
     ]
    }
   ],
   "source": [
    "help(len)"
   ]
  },
  {
   "cell_type": "code",
   "execution_count": 7,
   "id": "included-martial",
   "metadata": {},
   "outputs": [
    {
     "name": "stdout",
     "output_type": "stream",
     "text": [
      "(70000, 784)\n"
     ]
    }
   ],
   "source": [
    "print (mnist.data.shape)"
   ]
  },
  {
   "cell_type": "code",
   "execution_count": 8,
   "id": "suspended-coach",
   "metadata": {},
   "outputs": [
    {
     "name": "stdout",
     "output_type": "stream",
     "text": [
      "(70000,)\n"
     ]
    }
   ],
   "source": [
    "print (mnist.target.shape)"
   ]
  },
  {
   "cell_type": "code",
   "execution_count": 9,
   "id": "electronic-protein",
   "metadata": {},
   "outputs": [
    {
     "data": {
      "text/plain": [
       "array([  0.,   0.,   0.,   0.,   0.,   0.,   0.,   0.,   0.,   0.,   0.,\n",
       "         0.,   0.,   0.,   0.,   0.,   0.,   0.,   0.,   0.,   0.,   0.,\n",
       "         0.,   0.,   0.,   0.,   0.,   0.,   0.,   0.,   0.,   0.,   0.,\n",
       "         0.,   0.,   0.,   0.,   0.,   0.,   0.,   0.,   0.,   0.,   0.,\n",
       "         0.,   0.,   0.,   0.,   0.,   0.,   0.,   0.,   0.,   0.,   0.,\n",
       "         0.,   0.,   0.,   0.,   0.,   0.,   0.,   0.,   0.,   0.,   0.,\n",
       "         0.,   0.,   0.,   0.,   0.,   0.,   0.,   0.,   0.,   0.,   0.,\n",
       "         0.,   0.,   0.,   0.,   0.,   0.,   0.,   0.,   0.,   0.,   0.,\n",
       "         0.,   0.,   0.,   0.,   0.,   0.,   0.,   0.,   0.,   0.,   0.,\n",
       "         0.,   0.,   0.,   0.,   0.,   0.,   0.,   0.,   0.,   0.,   0.,\n",
       "         0.,   0.,   0.,   0.,   0.,   0.,   0.,   0.,   0.,   0.,   0.,\n",
       "         0.,   0.,   0.,   0.,   0.,   0.,   0.,   0.,   0.,   0.,   0.,\n",
       "         0.,   0.,   0.,   0.,   0.,   0.,   0.,   0.,   0.,   0.,   0.,\n",
       "         0.,   0.,   0.,   0.,   0.,   0.,   0.,   0.,   0.,   3.,  18.,\n",
       "        18.,  18., 126., 136., 175.,  26., 166., 255., 247., 127.,   0.,\n",
       "         0.,   0.,   0.,   0.,   0.,   0.,   0.,   0.,   0.,   0.,   0.,\n",
       "        30.,  36.,  94., 154., 170., 253., 253., 253., 253., 253., 225.,\n",
       "       172., 253., 242., 195.,  64.,   0.,   0.,   0.,   0.,   0.,   0.,\n",
       "         0.,   0.,   0.,   0.,   0.,  49., 238., 253., 253., 253., 253.,\n",
       "       253., 253., 253., 253., 251.,  93.,  82.,  82.,  56.,  39.,   0.,\n",
       "         0.,   0.,   0.,   0.,   0.,   0.,   0.,   0.,   0.,   0.,   0.,\n",
       "        18., 219., 253., 253., 253., 253., 253., 198., 182., 247., 241.,\n",
       "         0.,   0.,   0.,   0.,   0.,   0.,   0.,   0.,   0.,   0.,   0.,\n",
       "         0.,   0.,   0.,   0.,   0.,   0.,   0.,  80., 156., 107., 253.,\n",
       "       253., 205.,  11.,   0.,  43., 154.,   0.,   0.,   0.,   0.,   0.,\n",
       "         0.,   0.,   0.,   0.,   0.,   0.,   0.,   0.,   0.,   0.,   0.,\n",
       "         0.,   0.,   0.,  14.,   1., 154., 253.,  90.,   0.,   0.,   0.,\n",
       "         0.,   0.,   0.,   0.,   0.,   0.,   0.,   0.,   0.,   0.,   0.,\n",
       "         0.,   0.,   0.,   0.,   0.,   0.,   0.,   0.,   0.,   0.,   0.,\n",
       "       139., 253., 190.,   2.,   0.,   0.,   0.,   0.,   0.,   0.,   0.,\n",
       "         0.,   0.,   0.,   0.,   0.,   0.,   0.,   0.,   0.,   0.,   0.,\n",
       "         0.,   0.,   0.,   0.,   0.,   0.,  11., 190., 253.,  70.,   0.,\n",
       "         0.,   0.,   0.,   0.,   0.,   0.,   0.,   0.,   0.,   0.,   0.,\n",
       "         0.,   0.,   0.,   0.,   0.,   0.,   0.,   0.,   0.,   0.,   0.,\n",
       "         0.,   0.,  35., 241., 225., 160., 108.,   1.,   0.,   0.,   0.,\n",
       "         0.,   0.,   0.,   0.,   0.,   0.,   0.,   0.,   0.,   0.,   0.,\n",
       "         0.,   0.,   0.,   0.,   0.,   0.,   0.,   0.,   0.,  81., 240.,\n",
       "       253., 253., 119.,  25.,   0.,   0.,   0.,   0.,   0.,   0.,   0.,\n",
       "         0.,   0.,   0.,   0.,   0.,   0.,   0.,   0.,   0.,   0.,   0.,\n",
       "         0.,   0.,   0.,   0.,   0.,  45., 186., 253., 253., 150.,  27.,\n",
       "         0.,   0.,   0.,   0.,   0.,   0.,   0.,   0.,   0.,   0.,   0.,\n",
       "         0.,   0.,   0.,   0.,   0.,   0.,   0.,   0.,   0.,   0.,   0.,\n",
       "         0.,  16.,  93., 252., 253., 187.,   0.,   0.,   0.,   0.,   0.,\n",
       "         0.,   0.,   0.,   0.,   0.,   0.,   0.,   0.,   0.,   0.,   0.,\n",
       "         0.,   0.,   0.,   0.,   0.,   0.,   0.,   0.,   0., 249., 253.,\n",
       "       249.,  64.,   0.,   0.,   0.,   0.,   0.,   0.,   0.,   0.,   0.,\n",
       "         0.,   0.,   0.,   0.,   0.,   0.,   0.,   0.,   0.,   0.,   0.,\n",
       "         0.,  46., 130., 183., 253., 253., 207.,   2.,   0.,   0.,   0.,\n",
       "         0.,   0.,   0.,   0.,   0.,   0.,   0.,   0.,   0.,   0.,   0.,\n",
       "         0.,   0.,   0.,   0.,   0.,  39., 148., 229., 253., 253., 253.,\n",
       "       250., 182.,   0.,   0.,   0.,   0.,   0.,   0.,   0.,   0.,   0.,\n",
       "         0.,   0.,   0.,   0.,   0.,   0.,   0.,   0.,   0.,  24., 114.,\n",
       "       221., 253., 253., 253., 253., 201.,  78.,   0.,   0.,   0.,   0.,\n",
       "         0.,   0.,   0.,   0.,   0.,   0.,   0.,   0.,   0.,   0.,   0.,\n",
       "         0.,   0.,  23.,  66., 213., 253., 253., 253., 253., 198.,  81.,\n",
       "         2.,   0.,   0.,   0.,   0.,   0.,   0.,   0.,   0.,   0.,   0.,\n",
       "         0.,   0.,   0.,   0.,   0.,   0.,  18., 171., 219., 253., 253.,\n",
       "       253., 253., 195.,  80.,   9.,   0.,   0.,   0.,   0.,   0.,   0.,\n",
       "         0.,   0.,   0.,   0.,   0.,   0.,   0.,   0.,   0.,   0.,  55.,\n",
       "       172., 226., 253., 253., 253., 253., 244., 133.,  11.,   0.,   0.,\n",
       "         0.,   0.,   0.,   0.,   0.,   0.,   0.,   0.,   0.,   0.,   0.,\n",
       "         0.,   0.,   0.,   0.,   0., 136., 253., 253., 253., 212., 135.,\n",
       "       132.,  16.,   0.,   0.,   0.,   0.,   0.,   0.,   0.,   0.,   0.,\n",
       "         0.,   0.,   0.,   0.,   0.,   0.,   0.,   0.,   0.,   0.,   0.,\n",
       "         0.,   0.,   0.,   0.,   0.,   0.,   0.,   0.,   0.,   0.,   0.,\n",
       "         0.,   0.,   0.,   0.,   0.,   0.,   0.,   0.,   0.,   0.,   0.,\n",
       "         0.,   0.,   0.,   0.,   0.,   0.,   0.,   0.,   0.,   0.,   0.,\n",
       "         0.,   0.,   0.,   0.,   0.,   0.,   0.,   0.,   0.,   0.,   0.,\n",
       "         0.,   0.,   0.,   0.,   0.,   0.,   0.,   0.,   0.,   0.,   0.,\n",
       "         0.,   0.,   0.,   0.,   0.,   0.,   0.,   0.,   0.,   0.,   0.,\n",
       "         0.,   0.,   0.,   0.,   0.,   0.,   0.,   0.,   0.,   0.,   0.,\n",
       "         0.,   0.,   0.])"
      ]
     },
     "execution_count": 9,
     "metadata": {},
     "output_type": "execute_result"
    }
   ],
   "source": [
    "mnist.data[0]"
   ]
  },
  {
   "cell_type": "code",
   "execution_count": 10,
   "id": "alien-surname",
   "metadata": {},
   "outputs": [
    {
     "data": {
      "text/plain": [
       "0.0"
      ]
     },
     "execution_count": 10,
     "metadata": {},
     "output_type": "execute_result"
    }
   ],
   "source": [
    "mnist.data[0][1]"
   ]
  },
  {
   "cell_type": "code",
   "execution_count": 11,
   "id": "tested-title",
   "metadata": {},
   "outputs": [
    {
     "data": {
      "text/plain": [
       "array([0., 0., 0., ..., 0., 0., 0.])"
      ]
     },
     "execution_count": 11,
     "metadata": {},
     "output_type": "execute_result"
    }
   ],
   "source": [
    "mnist.data[:,1]"
   ]
  },
  {
   "cell_type": "code",
   "execution_count": 12,
   "id": "recognized-singles",
   "metadata": {},
   "outputs": [
    {
     "data": {
      "text/plain": [
       "array([[0., 0., 0., ..., 0., 0., 0.],\n",
       "       [0., 0., 0., ..., 0., 0., 0.],\n",
       "       [0., 0., 0., ..., 0., 0., 0.],\n",
       "       ...,\n",
       "       [0., 0., 0., ..., 0., 0., 0.],\n",
       "       [0., 0., 0., ..., 0., 0., 0.],\n",
       "       [0., 0., 0., ..., 0., 0., 0.]])"
      ]
     },
     "execution_count": 12,
     "metadata": {},
     "output_type": "execute_result"
    }
   ],
   "source": [
    "mnist.data[:100] "
   ]
  },
  {
   "cell_type": "code",
   "execution_count": 41,
   "id": "specified-chicken",
   "metadata": {},
   "outputs": [
    {
     "data": {
      "image/png": "[encoded data removed]",
      "text/plain": [
       "<Figure size 432x288 with 1 Axes>"
      ]
     },
     "metadata": {
      "needs_background": "light"
     },
     "output_type": "display_data"
    }
   ],
   "source": [
    "images = mnist.data.reshape((-1, 28, 28))\n",
    "plt.imshow(images[4],cmap=plt.cm.gray_r,interpolation=\"nearest\")\n",
    "plt.show() "
   ]
  },
  {
   "cell_type": "markdown",
   "id": "israeli-phrase",
   "metadata": {},
   "source": [
    "La méthode des k-plus proches voisins "
   ]
  },
  {
   "cell_type": "code",
   "execution_count": 24,
   "id": "sustainable-column",
   "metadata": {},
   "outputs": [],
   "source": [
    "data = np.random.randint(70000, size=5000)\n",
    "small_dataset = mnist.data[data]\n",
    "small_targets = mnist.target[data]"
   ]
  },
  {
   "cell_type": "code",
   "execution_count": 26,
   "id": "american-nudist",
   "metadata": {},
   "outputs": [],
   "source": [
    "xtrain, xtest, ytrain, ytest = train_test_split(small_dataset, small_targets, train_size=0.7)"
   ]
  },
  {
   "cell_type": "code",
   "execution_count": 10,
   "id": "commercial-bubble",
   "metadata": {},
   "outputs": [
    {
     "data": {
      "text/plain": [
       "0.914"
      ]
     },
     "execution_count": 10,
     "metadata": {},
     "output_type": "execute_result"
    }
   ],
   "source": [
    "# Entrainer un classifieur k-nn avec k = 10 sur le jeu de données chargé\n",
    "clf = neighbors.KNeighborsClassifier (n_neighbors = 10) \n",
    "clf.fit(xtrain, ytrain) \n",
    "ypredicted = clf.predict(xtest)\n",
    "clf.predict_proba(xtest) \n",
    "clf.score(xtest, ytest)"
   ]
  },
  {
   "cell_type": "code",
   "execution_count": 11,
   "id": "discrete-syndicate",
   "metadata": {},
   "outputs": [
    {
     "data": {
      "image/png": "[encoded data removed]",
      "text/plain": [
       "<Figure size 432x288 with 1 Axes>"
      ]
     },
     "metadata": {
      "needs_background": "light"
     },
     "output_type": "display_data"
    },
    {
     "data": {
      "text/plain": [
       "'2'"
      ]
     },
     "execution_count": 11,
     "metadata": {},
     "output_type": "execute_result"
    }
   ],
   "source": [
    "images_new = xtest.reshape((-1, 28, 28))\n",
    "plt.imshow(images_new[4],cmap=plt.cm.gray_r,interpolation=\"nearest\")\n",
    "plt.show() \n",
    "ypredicted[4]"
   ]
  },
  {
   "cell_type": "code",
   "execution_count": 12,
   "id": "technical-academy",
   "metadata": {},
   "outputs": [
    {
     "name": "stdout",
     "output_type": "stream",
     "text": [
      "score for 2 neighbors is: 0.916\n",
      "score for 3 neighbors is: 0.925\n",
      "score for 4 neighbors is: 0.919\n",
      "score for 5 neighbors is: 0.924\n",
      "score for 6 neighbors is: 0.926\n",
      "score for 7 neighbors is: 0.922\n",
      "score for 8 neighbors is: 0.925\n",
      "score for 9 neighbors is: 0.922\n",
      "score for 10 neighbors is: 0.914\n",
      "score for 11 neighbors is: 0.914\n",
      "score for 12 neighbors is: 0.911\n",
      "score for 13 neighbors is: 0.914\n",
      "score for 14 neighbors is: 0.908\n",
      "\n",
      "The best score of 0.926 is attained with 6 neighbors\n"
     ]
    }
   ],
   "source": [
    "best_n_neighbors = 0\n",
    "score_comp = 0\n",
    "scores = []\n",
    "kn = []\n",
    "for k in range(2, 15):\n",
    "    clf = neighbors.KNeighborsClassifier (n_neighbors = k) \n",
    "    clf.fit(xtrain, ytrain) \n",
    "    score = clf.score(xtest, ytest)\n",
    "    scores.append(score)\n",
    "    kn.append(k)\n",
    "    if (score > score_comp):\n",
    "        score_comp = score\n",
    "        best_n_neighbors = k\n",
    "    print(\"score for %d neighbors is: %.3f\" % (k, score))\n",
    "print(\"\\nThe best score of %.3f is attained with %d neighbors\" % (score_comp, best_n_neighbors))\n"
   ]
  },
  {
   "cell_type": "code",
   "execution_count": 13,
   "id": "fabulous-salon",
   "metadata": {},
   "outputs": [
    {
     "data": {
      "text/plain": [
       "Text(0.5, 1.0, 'Score avec 2 à 15 voisins')"
      ]
     },
     "execution_count": 13,
     "metadata": {},
     "output_type": "execute_result"
    },
    {
     "data": {
      "image/png": "[encoded data removed]",
      "text/plain": [
       "<Figure size 432x288 with 1 Axes>"
      ]
     },
     "metadata": {
      "needs_background": "light"
     },
     "output_type": "display_data"
    }
   ],
   "source": [
    "plt.plot(kn, scores)\n",
    "plt.xlabel('neighbors k')\n",
    "plt.ylabel('score')\n",
    "plt.title('Score avec 2 à 15 voisins')"
   ]
  },
  {
   "cell_type": "code",
   "execution_count": 14,
   "id": "illegal-cabin",
   "metadata": {},
   "outputs": [
    {
     "name": "stdout",
     "output_type": "stream",
     "text": [
      "mean score for 2 neighbors is: 0.926\n",
      "mean score for 3 neighbors is: 0.936\n",
      "mean score for 4 neighbors is: 0.932\n",
      "mean score for 5 neighbors is: 0.934\n",
      "mean score for 6 neighbors is: 0.933\n",
      "mean score for 7 neighbors is: 0.933\n",
      "mean score for 8 neighbors is: 0.930\n",
      "mean score for 9 neighbors is: 0.927\n",
      "mean score for 10 neighbors is: 0.925\n",
      "mean score for 11 neighbors is: 0.923\n",
      "mean score for 12 neighbors is: 0.923\n",
      "mean score for 13 neighbors is: 0.921\n",
      "mean score for 14 neighbors is: 0.918\n",
      "\n",
      "The best score of 0.936 is attained with 3 neighbors\n"
     ]
    }
   ],
   "source": [
    "best_n_neighbors = 0\n",
    "score_comp = 0\n",
    "kf = model_selection.KFold(n_splits=10,shuffle=True) \n",
    "scores = []\n",
    "kn = []\n",
    "for k in range(2, 15):\n",
    "    sum_score = 0\n",
    "    for train_index, test_index in kf.split(small_dataset):\n",
    "        xtrain_kfold, xtest_kfold = small_dataset[train_index], small_dataset[test_index]\n",
    "        ytrain_kfold, ytest_kfold = small_targets[train_index], small_targets[test_index]\n",
    "\n",
    "        clf = neighbors.KNeighborsClassifier (n_neighbors = k) \n",
    "        clf.fit(xtrain_kfold, ytrain_kfold) \n",
    "        score = clf.score(xtest_kfold, ytest_kfold)\n",
    "        sum_score += score\n",
    "    mean_score = sum_score/10\n",
    "    scores.append(mean_score)\n",
    "    kn.append(k)\n",
    "    if (mean_score > score_comp):\n",
    "        score_comp = mean_score\n",
    "        best_n_neighbors = k\n",
    "    print(\"mean score for %d neighbors is: %.3f\" % (k, mean_score))\n",
    "print(\"\\nThe best score of %.3f is attained with %d neighbors\" % (score_comp, best_n_neighbors))\n",
    "\n"
   ]
  },
  {
   "cell_type": "code",
   "execution_count": 15,
   "id": "threatened-raising",
   "metadata": {},
   "outputs": [
    {
     "data": {
      "text/plain": [
       "Text(0.5, 1.0, 'Score avec 10-fold cross validation')"
      ]
     },
     "execution_count": 15,
     "metadata": {},
     "output_type": "execute_result"
    },
    {
     "data": {
      "image/png": "[encoded data removed]",
      "text/plain": [
       "<Figure size 432x288 with 1 Axes>"
      ]
     },
     "metadata": {
      "needs_background": "light"
     },
     "output_type": "display_data"
    }
   ],
   "source": [
    "plt.plot(kn, scores)\n",
    "plt.xlabel('neighbors k')\n",
    "plt.ylabel('score')\n",
    "plt.title('Score avec 10-fold cross validation')"
   ]
  },
  {
   "cell_type": "code",
   "execution_count": 16,
   "id": "duplicate-following",
   "metadata": {},
   "outputs": [
    {
     "name": "stdout",
     "output_type": "stream",
     "text": [
      "i = 1 et train_size = 0.100\n",
      "\n",
      "The best score of 0.829 is attained with 3 neighbors\n",
      "\n",
      "\n",
      "i = 2 et train_size = 0.200\n",
      "\n",
      "The best score of 0.878 is attained with 5 neighbors\n",
      "\n",
      "\n",
      "i = 3 et train_size = 0.300\n",
      "\n",
      "The best score of 0.906 is attained with 3 neighbors\n",
      "\n",
      "\n",
      "i = 4 et train_size = 0.400\n",
      "\n",
      "The best score of 0.917 is attained with 3 neighbors\n",
      "\n",
      "\n",
      "i = 5 et train_size = 0.500\n",
      "\n",
      "The best score of 0.916 is attained with 4 neighbors\n",
      "\n",
      "\n",
      "i = 6 et train_size = 0.600\n",
      "\n",
      "The best score of 0.926 is attained with 5 neighbors\n",
      "\n",
      "\n",
      "i = 7 et train_size = 0.700\n",
      "\n",
      "The best score of 0.924 is attained with 6 neighbors\n",
      "\n",
      "\n",
      "i = 8 et train_size = 0.800\n",
      "\n",
      "The best score of 0.935 is attained with 5 neighbors\n",
      "\n",
      "\n",
      "i = 9 et train_size = 0.900\n",
      "\n",
      "The best score of 0.948 is attained with 9 neighbors\n",
      "\n",
      "\n"
     ]
    }
   ],
   "source": [
    "# Notes\n",
    "# 2 folds (50%) is really bad\n",
    "# All the way up to 5\n",
    "\n",
    "# Varier la taille \n",
    "#data = np.random.randint(70000, size=500)\n",
    "#small_dataset = mnist.data[data]\n",
    "#small_targets = mnist.target[data]\n",
    "\n",
    "#Varier le pourcentage d'echantillon\n",
    "\n",
    "scores = []\n",
    "trainsizes = []\n",
    "for i in range(1, 10):\n",
    "    best_n_neighbors = 0\n",
    "    score_comp = 0\n",
    "    print(\"i = %d et train_size = %.3f\" % (i, i/10))\n",
    "    trainsizes.append(i/10)\n",
    "    xtrain, xtest, ytrain, ytest = train_test_split(small_dataset, small_targets, train_size=i/10)\n",
    "    for k in range(2, 15):\n",
    "        clf = neighbors.KNeighborsClassifier (n_neighbors = k, metric = 'euclidean', n_jobs = 1) \n",
    "        clf.fit(xtrain, ytrain) \n",
    "        score = clf.score(xtest, ytest)\n",
    "        if (score > score_comp):\n",
    "            score_comp = score\n",
    "            best_n_neighbors = k\n",
    "    scores.append(score_comp)\n",
    "        #print(\"score for %d neighbors is: %.3f\" % (k, score))\n",
    "    print(\"\\nThe best score of %.3f is attained with %d neighbors\\n\\n\" % (score_comp, best_n_neighbors))"
   ]
  },
  {
   "cell_type": "code",
   "execution_count": 17,
   "id": "sunset-thickness",
   "metadata": {},
   "outputs": [
    {
     "data": {
      "text/plain": [
       "Text(0.5, 1.0, \"Score en fonction d'echantillon train\")"
      ]
     },
     "execution_count": 17,
     "metadata": {},
     "output_type": "execute_result"
    },
    {
     "data": {
      "image/png": "[encoded data removed]",
      "text/plain": [
       "<Figure size 432x288 with 1 Axes>"
      ]
     },
     "metadata": {
      "needs_background": "light"
     },
     "output_type": "display_data"
    }
   ],
   "source": [
    "plt.plot(trainsizes, scores)\n",
    "plt.xlabel('Pourcentage d\\'echantillon train')\n",
    "plt.ylabel('score')\n",
    "plt.title('Score en fonction d\\'echantillon train')\n",
    "\n"
   ]
  },
  {
   "cell_type": "code",
   "execution_count": 118,
   "id": "intellectual-shark",
   "metadata": {},
   "outputs": [
    {
     "name": "stdout",
     "output_type": "stream",
     "text": [
      "i = 1 et train_size = 10000.000\n",
      "\n",
      "The best score of 0.947 is attained with 3 neighbors\n",
      "\n",
      "\n",
      "i = 2 et train_size = 5000.000\n",
      "\n",
      "The best score of 0.943 is attained with 5 neighbors\n",
      "\n",
      "\n",
      "i = 3 et train_size = 3333.333\n",
      "\n",
      "The best score of 0.931 is attained with 5 neighbors\n",
      "\n",
      "\n",
      "i = 4 et train_size = 2500.000\n",
      "\n",
      "The best score of 0.912 is attained with 3 neighbors\n",
      "\n",
      "\n",
      "i = 5 et train_size = 2000.000\n",
      "\n",
      "The best score of 0.920 is attained with 5 neighbors\n",
      "\n",
      "\n",
      "i = 6 et train_size = 1666.667\n",
      "\n",
      "The best score of 0.908 is attained with 5 neighbors\n",
      "\n",
      "\n",
      "i = 7 et train_size = 1428.571\n",
      "\n",
      "The best score of 0.871 is attained with 4 neighbors\n",
      "\n",
      "\n",
      "i = 8 et train_size = 1250.000\n",
      "\n",
      "The best score of 0.883 is attained with 10 neighbors\n",
      "\n",
      "\n",
      "i = 9 et train_size = 1111.111\n",
      "\n",
      "The best score of 0.912 is attained with 6 neighbors\n",
      "\n",
      "\n"
     ]
    }
   ],
   "source": [
    "scores = []\n",
    "echsizes = []\n",
    "for i in range(1, 10):\n",
    "    best_n_neighbors = 0\n",
    "    score_comp = 0\n",
    "    print(\"i = %d et train_size = %.3f\" % (i, 10000/i))\n",
    "    echsizes.append(10000/i)\n",
    "    data = np.random.randint(70000, size=int(10000/i))\n",
    "    small_dataset = mnist.data[data]\n",
    "    small_targets = mnist.target[data]\n",
    "    xtrain, xtest, ytrain, ytest = train_test_split(small_dataset, small_targets, train_size=0.8)\n",
    "    for k in range(2, 15):\n",
    "        clf = neighbors.KNeighborsClassifier (n_neighbors = k, metric = 'euclidean', n_jobs = 1) \n",
    "        clf.fit(xtrain, ytrain) \n",
    "        y_pred = clf.predict(xtest)\n",
    "        score = clf.score(xtest, ytest)\n",
    "        score = precision_score(ytest, y_pred, average='macro')\n",
    "        if (score > score_comp):\n",
    "            score_comp = score\n",
    "            best_n_neighbors = k\n",
    "    scores.append(score_comp)\n",
    "        #print(\"score for %d neighbors is: %.3f\" % (k, score))\n",
    "    print(\"\\nThe best score of %.3f is attained with %d neighbors\\n\\n\" % (score_comp, best_n_neighbors))"
   ]
  },
  {
   "cell_type": "code",
   "execution_count": 119,
   "id": "applied-suffering",
   "metadata": {},
   "outputs": [
    {
     "data": {
      "text/plain": [
       "Text(0.5, 1.0, \"Score en fonction de la taille d'echantillon train\")"
      ]
     },
     "execution_count": 119,
     "metadata": {},
     "output_type": "execute_result"
    },
    {
     "data": {
      "image/png": "[encoded data removed]",
      "text/plain": [
       "<Figure size 432x288 with 1 Axes>"
      ]
     },
     "metadata": {
      "needs_background": "light"
     },
     "output_type": "display_data"
    }
   ],
   "source": [
    "plt.plot(echsizes, scores)\n",
    "plt.xlabel('Taille d\\'echantillon train')\n",
    "plt.ylabel('score')\n",
    "plt.title('Score en fonction de la taille d\\'echantillon train')"
   ]
  },
  {
   "cell_type": "code",
   "execution_count": 120,
   "id": "defined-fantasy",
   "metadata": {},
   "outputs": [],
   "source": [
    "data = np.random.randint(70000, size=5000)\n",
    "small_dataset = mnist.data[data]\n",
    "small_targets = mnist.target[data]"
   ]
  },
  {
   "cell_type": "code",
   "execution_count": 130,
   "id": "powerful-elevation",
   "metadata": {},
   "outputs": [
    {
     "name": "stdout",
     "output_type": "stream",
     "text": [
      "metric = euclidean\n",
      "\n",
      "The best score of 0.917 is attained with 10 neighbors\n",
      "\n",
      "\n",
      "metric = manhattan\n",
      "\n",
      "The best score of 0.923 is attained with 10 neighbors\n",
      "\n",
      "\n",
      "metric = chebyshev\n",
      "\n",
      "The best score of 0.627 is attained with 10 neighbors\n",
      "\n",
      "\n",
      "metric = minkowski\n",
      "\n",
      "The best score of 0.907 is attained with 10 neighbors\n",
      "\n",
      "\n"
     ]
    }
   ],
   "source": [
    "scores = []\n",
    "x = []\n",
    "metrics = ['euclidean', 'manhattan', 'chebyshev', 'minkowski']\n",
    "n = 0\n",
    "for i in metrics:\n",
    "    best_n_neighbors = 0\n",
    "    score_comp = 0\n",
    "    print(\"metric = %s\" %  i)\n",
    "    xtrain, xtest, ytrain, ytest = train_test_split(small_dataset, small_targets, train_size=0.8)\n",
    "    clf = neighbors.KNeighborsClassifier (n_neighbors = 10, metric = i, n_jobs = 1) \n",
    "    clf.fit(xtrain, ytrain) \n",
    "    y_pred = clf.predict(xtest)\n",
    "    score = clf.score(xtest, ytest)\n",
    "    score = precision_score(ytest, y_pred, average='macro')\n",
    "    scores.append(score)\n",
    "    n+=1\n",
    "    x.append(n)\n",
    "        #print(\"score for %d neighbors is: %.3f\" % (k, score))\n",
    "    print(\"\\nThe best score of %.3f is attained with %d neighbors\\n\\n\" % (score, 10))"
   ]
  },
  {
   "cell_type": "code",
   "execution_count": 132,
   "id": "eastern-accommodation",
   "metadata": {},
   "outputs": [
    {
     "data": {
      "text/plain": [
       "Text(0.5, 1.0, 'Score en fonction de la metric')"
      ]
     },
     "execution_count": 132,
     "metadata": {},
     "output_type": "execute_result"
    },
    {
     "data": {
      "image/png": "[encoded data removed]",
      "text/plain": [
       "<Figure size 432x288 with 1 Axes>"
      ]
     },
     "metadata": {
      "needs_background": "light"
     },
     "output_type": "display_data"
    }
   ],
   "source": [
    "plt.xticks(x, metrics)\n",
    "plt.plot(x, scores)\n",
    "plt.ylabel('score')\n",
    "plt.xlabel('Metric')\n",
    "plt.title('Score en fonction de la metric')"
   ]
  },
  {
   "cell_type": "code",
   "execution_count": 144,
   "id": "satisfactory-admission",
   "metadata": {},
   "outputs": [
    {
     "name": "stdout",
     "output_type": "stream",
     "text": [
      "with n_jobs = 1: mean execution time 0.1494\n",
      "with n_jobs = -1: mean execution time 0.1998\n"
     ]
    }
   ],
   "source": [
    "iterations = 30\n",
    "\n",
    "totalscore = 0\n",
    "mean = 0\n",
    "for i in range(0,iterations):\n",
    "    start = time.time()\n",
    "    xtrain, xtest, ytrain, ytest = train_test_split(small_dataset, small_targets, train_size=0.8)\n",
    "    clf = neighbors.KNeighborsClassifier (n_neighbors = 10, metric = 'euclidean', n_jobs = 1) \n",
    "    clf.fit(xtrain, ytrain) \n",
    "    y_pred = clf.predict(xtest)\n",
    "    end = time.time()\n",
    "    mean += end-start\n",
    "print('with n_jobs = 1: mean execution time %.4f' % (mean/iterations))\n",
    "\n",
    "totalscore = 0\n",
    "mean = 0\n",
    "for i in range(0,iterations):\n",
    "    start = time.time()\n",
    "    xtrain, xtest, ytrain, ytest = train_test_split(small_dataset, small_targets, train_size=0.8)\n",
    "    clf = neighbors.KNeighborsClassifier (n_neighbors = 10, metric = 'euclidean', n_jobs = -1) \n",
    "    clf.fit(xtrain, ytrain) \n",
    "    y_pred = clf.predict(xtest)\n",
    "    end = time.time()\n",
    "    mean += end-start\n",
    "print('with n_jobs = -1: mean execution time %.4f' % (mean/iterations))"
   ]
  },
  {
   "cell_type": "code",
   "execution_count": 33,
   "id": "given-ordering",
   "metadata": {},
   "outputs": [
    {
     "data": {
      "text/plain": [
       "0.9226666666666666"
      ]
     },
     "execution_count": 33,
     "metadata": {},
     "output_type": "execute_result"
    }
   ],
   "source": [
    "tp1 = time.time()\n",
    "clf = neighbors.KNeighborsClassifier (n_neighbors = 3) \n",
    "clf.fit(xtrain, ytrain) \n",
    "tp2 = time.time()\n",
    "ypredicted = clf.predict(xtest)\n",
    "clf.predict_proba(xtest) \n",
    "print(clf.score(xtest, ytest))\n"
   ]
  },
  {
   "cell_type": "code",
   "execution_count": 35,
   "id": "vulnerable-adapter",
   "metadata": {},
   "outputs": [
    {
     "data": {
      "text/plain": [
       "0.07733333333333337"
      ]
     },
     "execution_count": 35,
     "metadata": {},
     "output_type": "execute_result"
    }
   ],
   "source": [
    "metrics.zero_one_loss(ytest, ypredicted)"
   ]
  },
  {
   "cell_type": "code",
   "execution_count": 34,
   "id": "surrounded-casting",
   "metadata": {},
   "outputs": [
    {
     "data": {
      "text/plain": [
       "0.009464025497436523"
      ]
     },
     "execution_count": 34,
     "metadata": {},
     "output_type": "execute_result"
    }
   ],
   "source": [
    "tp2-tp1"
   ]
  },
  {
   "cell_type": "code",
   "execution_count": 28,
   "id": "duplicate-branch",
   "metadata": {},
   "outputs": [
    {
     "name": "stderr",
     "output_type": "stream",
     "text": [
      "/usr/local/lib/python3.9/site-packages/sklearn/utils/deprecation.py:87: FutureWarning: Function plot_confusion_matrix is deprecated; Function `plot_confusion_matrix` is deprecated in 1.0 and will be removed in 1.2. Use one of the class methods: ConfusionMatrixDisplay.from_predictions or ConfusionMatrixDisplay.from_estimator.\n",
      "  warnings.warn(msg, category=FutureWarning)\n"
     ]
    },
    {
     "data": {
      "text/plain": [
       "array([[164,   0,   0,   1,   0,   0,   1,   0,   0,   0],\n",
       "       [  0, 157,   0,   0,   0,   0,   0,   1,   0,   0],\n",
       "       [  5,  12, 128,   0,   2,   1,   1,   3,   0,   2],\n",
       "       [  0,   2,   0, 169,   0,   4,   0,   1,   1,   1],\n",
       "       [  0,   4,   0,   0, 124,   0,   0,   2,   0,  10],\n",
       "       [  2,   2,   0,   4,   1, 119,   0,   1,   0,   4],\n",
       "       [  0,   1,   0,   0,   0,   0, 145,   0,   0,   0],\n",
       "       [  1,   3,   1,   0,   2,   0,   0, 133,   0,   2],\n",
       "       [  0,   8,   1,   4,   1,   7,   0,   1, 109,   4],\n",
       "       [  0,   1,   1,   3,   3,   1,   0,   3,   0, 136]])"
      ]
     },
     "execution_count": 28,
     "metadata": {},
     "output_type": "execute_result"
    },
    {
     "data": {
      "image/png": "[encoded data removed]",
      "text/plain": [
       "<Figure size 432x288 with 2 Axes>"
      ]
     },
     "metadata": {
      "needs_background": "light"
     },
     "output_type": "display_data"
    }
   ],
   "source": [
    "from sklearn.metrics import confusion_matrix\n",
    "from sklearn import metrics\n",
    "\n",
    "cm = confusion_matrix(ytest, ypredicted)\n",
    "metrics.plot_confusion_matrix(clf, xtest, ytest)\n",
    "cm"
   ]
  },
  {
   "cell_type": "code",
   "execution_count": 29,
   "id": "american-welding",
   "metadata": {},
   "outputs": [
    {
     "data": {
      "text/plain": [
       "0.9274341974241563"
      ]
     },
     "execution_count": 29,
     "metadata": {},
     "output_type": "execute_result"
    }
   ],
   "source": [
    "metrics.precision_score(ytest, ypredicted ,average='macro')"
   ]
  },
  {
   "cell_type": "code",
   "execution_count": 31,
   "id": "successful-chorus",
   "metadata": {},
   "outputs": [
    {
     "data": {
      "text/plain": [
       "0.9226666666666666"
      ]
     },
     "execution_count": 31,
     "metadata": {},
     "output_type": "execute_result"
    }
   ],
   "source": [
    "clf.score(xtest, ytest)"
   ]
  },
  {
   "cell_type": "code",
   "execution_count": null,
   "id": "effective-sellers",
   "metadata": {},
   "outputs": [],
   "source": []
  }
 ],
 "metadata": {
  "kernelspec": {
   "display_name": "Python 3",
   "language": "python",
   "name": "python3"
  },
  "language_info": {
   "codemirror_mode": {
    "name": "ipython",
    "version": 3
   },
   "file_extension": ".py",
   "mimetype": "text/x-python",
   "name": "python",
   "nbconvert_exporter": "python",
   "pygments_lexer": "ipython3",
   "version": "3.9.7"
  }
 },
 "nbformat": 4,
 "nbformat_minor": 5
}
